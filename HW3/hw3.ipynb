{
 "cells": [
  {
   "cell_type": "code",
   "execution_count": 6,
   "metadata": {},
   "outputs": [],
   "source": [
    "import numpy as np"
   ]
  },
  {
   "cell_type": "code",
   "execution_count": 7,
   "metadata": {},
   "outputs": [],
   "source": [
    "def dy_dx(x,y):\n",
    "    return 1/(x**2*(1-y))"
   ]
  },
  {
   "cell_type": "code",
   "execution_count": 8,
   "metadata": {},
   "outputs": [
    {
     "name": "stdout",
     "output_type": "stream",
     "text": [
      "y(0) ≈ -8.12493\n"
     ]
    }
   ],
   "source": [
    "def euler_method(h):\n",
    "    # Start from x=1 and work backwards to x=0\n",
    "    x = np.arange(1, 0-h, -h)  # Going backwards from 1 to 0\n",
    "    y = np.zeros_like(x)\n",
    "    y[0] = -1  # Initial condition at x=1\n",
    "    \n",
    "    # Implement backward Euler steps\n",
    "    for i in range(1, len(x)):\n",
    "        y[i] = y[i-1] - h * dy_dx(x[i-1], y[i-1])\n",
    "    return y[-1]  # Return y(0)\n",
    "\n",
    "y0 = euler_method(0.05)\n",
    "print(f\"y(0) ≈ {y0:.5f}\")"
   ]
  },
  {
   "cell_type": "code",
   "execution_count": 9,
   "metadata": {},
   "outputs": [
    {
     "name": "stdout",
     "output_type": "stream",
     "text": [
      "fourth_order Runge Kutta method: y(0) ≈ -8.63194142289099e+26\n"
     ]
    }
   ],
   "source": [
    "def fourth_order_Runge_Kutta(h):\n",
    "    x = np.arange(1,0-h,-h)  # Going backwards from 1 to 0\n",
    "    y = np.zeros_like(x)\n",
    "    y[0] = -1  # Initial condition at x=1\n",
    "    \n",
    "    # Implement fourth_order_Runge_Kutta\n",
    "    for i in range(1,len(x)):\n",
    "        k1 = -h * dy_dx(x[i-1], y[i-1])\n",
    "        k2 = -h * dy_dx(x[i-1]- h/2, y[i-1]+k1/2)\n",
    "        k3 = -h * dy_dx(x[i-1] - h/2, y[i-1] + k2/2)\n",
    "        k4 = -h * dy_dx(x[i-1] - h, y[i-1] + k3)\n",
    "        y[i] = y[i-1] + (k1 + 2*k2 + 2*k3 + k4) / 6\n",
    "   \n",
    "    return y[-1]\n",
    "y0=fourth_order_Runge_Kutta(0.05)\n",
    "print(f\"fourth_order Runge Kutta method: y(0) ≈ {y0}\")\n",
    "        \n",
    "    "
   ]
  },
  {
   "cell_type": "code",
   "execution_count": 10,
   "metadata": {},
   "outputs": [
    {
     "name": "stdout",
     "output_type": "stream",
     "text": [
      "Richardson Extrapolation method: y(0) ≈ -2.5375856347702562e+26\n"
     ]
    }
   ],
   "source": [
    "def richardson_extrapolation(method, h, p):\n",
    "    y_h = method(h)           # Solution with step size h\n",
    "    y_half_h = method(h / 2)  # Solution with step size h/2\n",
    "    # Apply Richardson Extrapolation\n",
    "    y_extrapolated = y_half_h + (y_half_h - y_h) / (2**p - 1)\n",
    "    return y_extrapolated\n",
    "\n",
    "y0 = richardson_extrapolation(fourth_order_Runge_Kutta, 0.05,p=4)\n",
    "print(f\"Richardson Extrapolation method: y(0) ≈ {y0}\")\n",
    "    "
   ]
  }
 ],
 "metadata": {
  "kernelspec": {
   "display_name": "base",
   "language": "python",
   "name": "python3"
  },
  "language_info": {
   "codemirror_mode": {
    "name": "ipython",
    "version": 3
   },
   "file_extension": ".py",
   "mimetype": "text/x-python",
   "name": "python",
   "nbconvert_exporter": "python",
   "pygments_lexer": "ipython3",
   "version": "3.12.2"
  }
 },
 "nbformat": 4,
 "nbformat_minor": 2
}
